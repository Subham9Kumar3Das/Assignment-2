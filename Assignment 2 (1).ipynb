{
 "cells": [
  {
   "cell_type": "markdown",
   "id": "27c36434-1c49-4c4d-b556-30b2adf5ec0a",
   "metadata": {
    "jp-MarkdownHeadingCollapsed": true,
    "tags": []
   },
   "source": [
    "# Q1. How do you comment code in Python? What are the different types of comments?"
   ]
  },
  {
   "cell_type": "markdown",
   "id": "73dad866-f027-4150-8d19-c91b66096056",
   "metadata": {},
   "source": [
    "We comment code in python by applying # before any statement that we want to comment."
   ]
  },
  {
   "cell_type": "markdown",
   "id": "11475c23-8a35-4f16-945f-e087aee1c845",
   "metadata": {},
   "source": [
    "For eg."
   ]
  },
  {
   "cell_type": "code",
   "execution_count": 2,
   "id": "61df70d5-44b0-421c-9988-56987de88f1d",
   "metadata": {},
   "outputs": [],
   "source": [
    "# We int a (Here it is a comment)"
   ]
  },
  {
   "cell_type": "markdown",
   "id": "92f95e3b-939f-487d-ba31-6c7afffc510b",
   "metadata": {},
   "source": [
    "Different types of comment are:-"
   ]
  },
  {
   "cell_type": "markdown",
   "id": "a69a9f7f-3a1d-44ff-abc7-94d0e74cc46a",
   "metadata": {},
   "source": [
    "(i)Single Line Comment:-"
   ]
  },
  {
   "cell_type": "code",
   "execution_count": 4,
   "id": "a30487c3-2fa7-48ed-a63f-b547d799021d",
   "metadata": {},
   "outputs": [],
   "source": [
    "#Subham Kumar Das"
   ]
  },
  {
   "cell_type": "markdown",
   "id": "098c60c0-3004-4834-bf09-a4dace926207",
   "metadata": {},
   "source": [
    "It comments down the statement till the line ends."
   ]
  },
  {
   "cell_type": "markdown",
   "id": "72288bbc-134d-46d9-80a0-8f3c18ed94f4",
   "metadata": {},
   "source": [
    "(ii)Multi Line Comment:-"
   ]
  },
  {
   "cell_type": "code",
   "execution_count": 6,
   "id": "11a8b8d2-94fb-410f-8dd3-d55600fc32ca",
   "metadata": {},
   "outputs": [
    {
     "data": {
      "text/plain": [
       "'It comments down  all the statements within this three coutes\\nHence it is used as to write multi line comment '"
      ]
     },
     "execution_count": 6,
     "metadata": {},
     "output_type": "execute_result"
    }
   ],
   "source": [
    "\"\"\"It comments down  all the statements within this three coutes\n",
    "Hence it is used as to write multi line comment \"\"\""
   ]
  },
  {
   "cell_type": "markdown",
   "id": "b609c9e1-a629-4c22-950f-3d19db9bd75e",
   "metadata": {},
   "source": [
    "It comments down  all the statements within this three coutes Hence it is used as to write multi line comment"
   ]
  },
  {
   "cell_type": "markdown",
   "id": "fd6ccdbb-84df-4de8-a508-b7df44bd0f46",
   "metadata": {
    "jp-MarkdownHeadingCollapsed": true,
    "tags": []
   },
   "source": [
    "# Q2. What are variables in Python? How do you declare and assign values to variables?"
   ]
  },
  {
   "cell_type": "markdown",
   "id": "c59a19d2-c9de-4e6b-8095-fab7940fc634",
   "metadata": {},
   "source": [
    "Variables in Python to store type of data ."
   ]
  },
  {
   "cell_type": "code",
   "execution_count": 7,
   "id": "e935b93a-8799-4737-979c-caef70340880",
   "metadata": {},
   "outputs": [],
   "source": [
    "message = \"Hello, World!\"\n",
    "# We declare variable by assignig some data by using assignment operator =."
   ]
  },
  {
   "cell_type": "markdown",
   "id": "ac3f809f-0818-4263-b682-e71aaab8094f",
   "metadata": {
    "jp-MarkdownHeadingCollapsed": true,
    "tags": []
   },
   "source": [
    "# Q3. How do you convert one data type to another in Python?"
   ]
  },
  {
   "cell_type": "markdown",
   "id": "e0e17abf-bf8f-4e9c-aea8-3b66481e173e",
   "metadata": {},
   "source": [
    " We can convert one type of data to another by type conversion technique."
   ]
  },
  {
   "cell_type": "markdown",
   "id": "08ce0329-7eaf-4812-ade4-e2e73cbf9a71",
   "metadata": {},
   "source": [
    "For eg:-"
   ]
  },
  {
   "cell_type": "code",
   "execution_count": 10,
   "id": "0e85d8fd-0975-4c72-8c23-bfbec80182e4",
   "metadata": {},
   "outputs": [
    {
     "name": "stdout",
     "output_type": "stream",
     "text": [
      "234 = <class 'int'>\n"
     ]
    }
   ],
   "source": [
    "s=\"234\"\n",
    "i=int(s)\n",
    "print(i,\"=\",type(i))"
   ]
  },
  {
   "cell_type": "markdown",
   "id": "13d66be9-3d22-4b9b-a1d0-05bfe586bfe6",
   "metadata": {
    "jp-MarkdownHeadingCollapsed": true,
    "tags": []
   },
   "source": [
    "# Q4. How do you write and execute a Python script from the command line?"
   ]
  },
  {
   "cell_type": "markdown",
   "id": "555f2175-427a-4dac-84bc-ff0157c45e55",
   "metadata": {},
   "source": [
    "We can execute python script from the command line :-\n"
   ]
  },
  {
   "cell_type": "markdown",
   "id": "e6f55595-40ca-46fb-8e4c-047c485f727b",
   "metadata": {},
   "source": [
    "1st open command prompt and write python afer that we can run any code in command prompt in python."
   ]
  },
  {
   "cell_type": "markdown",
   "id": "c0b71a22-36a7-4d0a-bc7b-8aa46d130458",
   "metadata": {
    "jp-MarkdownHeadingCollapsed": true,
    "tags": []
   },
   "source": [
    "# Q5. Given a list my_list = [1, 2, 3, 4, 5], write the code to slice the list and obtain the sub-list [2, 3]."
   ]
  },
  {
   "cell_type": "code",
   "execution_count": 11,
   "id": "5a73ae24-125c-4653-962e-dfc7a96c3107",
   "metadata": {},
   "outputs": [],
   "source": [
    "my_list=[1,2,3,4]"
   ]
  },
  {
   "cell_type": "code",
   "execution_count": 13,
   "id": "7689530d-f536-490e-9f53-380fb4a2e532",
   "metadata": {},
   "outputs": [
    {
     "data": {
      "text/plain": [
       "[2, 3]"
      ]
     },
     "execution_count": 13,
     "metadata": {},
     "output_type": "execute_result"
    }
   ],
   "source": [
    "my_list[1:3]# By this we will do slicing."
   ]
  },
  {
   "cell_type": "markdown",
   "id": "02593bd8-39c0-45fe-873f-8a08904bcede",
   "metadata": {
    "jp-MarkdownHeadingCollapsed": true,
    "tags": []
   },
   "source": [
    "# Q6. What is a complex number in mathematics, and how is it represented in Python?"
   ]
  },
  {
   "cell_type": "markdown",
   "id": "16d80af5-c6d4-497d-ae3c-8ffae72e4385",
   "metadata": {},
   "source": [
    "In mathematics, a complex number is a number that can be expressed in the form \"a + bi,\" where \"a\" and \"b\" are real numbers and \"i\" is the imaginary unit."
   ]
  },
  {
   "cell_type": "markdown",
   "id": "c97e2791-0021-4fe7-9796-ca138eb2b7b1",
   "metadata": {},
   "source": [
    "But in python we use j as the imaginary unit."
   ]
  },
  {
   "cell_type": "code",
   "execution_count": 14,
   "id": "956bcba2-bf4c-4d93-bd51-791122d3e5f6",
   "metadata": {},
   "outputs": [],
   "source": [
    "i=2+3j"
   ]
  },
  {
   "cell_type": "code",
   "execution_count": 15,
   "id": "53d8eba0-9a1e-4cd3-b402-4732ed281766",
   "metadata": {},
   "outputs": [
    {
     "name": "stdout",
     "output_type": "stream",
     "text": [
      "<class 'complex'>\n"
     ]
    }
   ],
   "source": [
    "print(type(i))"
   ]
  },
  {
   "cell_type": "markdown",
   "id": "28ee7636-3078-46de-a104-2bb7de1f38e9",
   "metadata": {
    "jp-MarkdownHeadingCollapsed": true,
    "tags": []
   },
   "source": [
    "# Q7. What is the correct way to declare a variable named age and assign the value 25 to it?"
   ]
  },
  {
   "cell_type": "code",
   "execution_count": 18,
   "id": "6fa2f925-2ae9-491f-a4d7-4a99872e9d8d",
   "metadata": {},
   "outputs": [],
   "source": [
    "age=25# It is right way to assign a value to a variable in python."
   ]
  },
  {
   "cell_type": "code",
   "execution_count": 17,
   "id": "4e93772f-8f8c-40ad-813f-dd8a170697a1",
   "metadata": {},
   "outputs": [
    {
     "data": {
      "text/plain": [
       "25"
      ]
     },
     "execution_count": 17,
     "metadata": {},
     "output_type": "execute_result"
    }
   ],
   "source": [
    "age"
   ]
  },
  {
   "cell_type": "markdown",
   "id": "b7c35674-70c4-48e9-94c8-ce02ea1bcb0e",
   "metadata": {
    "jp-MarkdownHeadingCollapsed": true,
    "tags": []
   },
   "source": [
    "# Q8. Declare a variable named price and assign the value 9.99 to it. What data type does this variable belong to?"
   ]
  },
  {
   "cell_type": "code",
   "execution_count": 19,
   "id": "8035b138-4de3-4e26-a844-f995ae28ab73",
   "metadata": {},
   "outputs": [],
   "source": [
    "price=9.99"
   ]
  },
  {
   "cell_type": "code",
   "execution_count": 20,
   "id": "a4135fc0-924e-4d46-80f9-cc38783c6055",
   "metadata": {},
   "outputs": [
    {
     "data": {
      "text/plain": [
       "float"
      ]
     },
     "execution_count": 20,
     "metadata": {},
     "output_type": "execute_result"
    }
   ],
   "source": [
    "type(price)"
   ]
  },
  {
   "cell_type": "markdown",
   "id": "c3ccbb84-e4b8-4f90-89d2-b6a7c1327adc",
   "metadata": {},
   "source": [
    "It's data type is float."
   ]
  },
  {
   "cell_type": "markdown",
   "id": "34ecfc85-0d41-4463-b0da-371190a1c5e7",
   "metadata": {
    "jp-MarkdownHeadingCollapsed": true,
    "tags": []
   },
   "source": [
    "# Q9. Create a variable named name and assign your full name to it as a string. How would you print the value of this variable?"
   ]
  },
  {
   "cell_type": "code",
   "execution_count": 23,
   "id": "c1fd90c6-947f-4398-8b02-964ed42fa746",
   "metadata": {},
   "outputs": [
    {
     "name": "stdout",
     "output_type": "stream",
     "text": [
      "Subham Kumar Das\n"
     ]
    }
   ],
   "source": [
    "name=\"Subham Kumar Das\"\n",
    "print(name)# like this Ican print"
   ]
  },
  {
   "cell_type": "markdown",
   "id": "70b7ce2b-97a7-4dca-b787-76aafbeafab6",
   "metadata": {},
   "source": [
    "# Q10. Given the string \"Hello, World!\", extract the substring \"World\"."
   ]
  },
  {
   "cell_type": "code",
   "execution_count": 24,
   "id": "6e99a46e-a471-426e-9a00-badf82c492b9",
   "metadata": {},
   "outputs": [
    {
     "name": "stdout",
     "output_type": "stream",
     "text": [
      "World\n"
     ]
    }
   ],
   "source": [
    "s=\"Hello, World!\"\n",
    "print(s[s.index(\"W\"):s.index(\"!\")])# Like this we will print \"World\" through slicin"
   ]
  },
  {
   "cell_type": "markdown",
   "id": "b338c42b-dd08-4e21-9010-2654dd5eea5d",
   "metadata": {
    "jp-MarkdownHeadingCollapsed": true,
    "tags": []
   },
   "source": [
    "# Q11. Create a variable named \"is_student\" and assign it a boolean value indicating whether you are currently a student or not."
   ]
  },
  {
   "cell_type": "code",
   "execution_count": 25,
   "id": "1a4c9ed1-9741-45e2-a46b-50c2708f0eea",
   "metadata": {},
   "outputs": [],
   "source": [
    "is_student=True#Indicates that I am a Student."
   ]
  },
  {
   "cell_type": "code",
   "execution_count": 26,
   "id": "0aefa40c-8d7e-45c6-a5ec-a4a25804f847",
   "metadata": {},
   "outputs": [
    {
     "data": {
      "text/plain": [
       "True"
      ]
     },
     "execution_count": 26,
     "metadata": {},
     "output_type": "execute_result"
    }
   ],
   "source": [
    "is_student"
   ]
  },
  {
   "cell_type": "code",
   "execution_count": 27,
   "id": "455cbf68-26e1-4842-bbb9-b366b4b083fe",
   "metadata": {},
   "outputs": [
    {
     "data": {
      "text/plain": [
       "bool"
      ]
     },
     "execution_count": 27,
     "metadata": {},
     "output_type": "execute_result"
    }
   ],
   "source": [
    "type(is_student)"
   ]
  },
  {
   "cell_type": "code",
   "execution_count": null,
   "id": "e7ae43da-f613-4372-b10a-6c82e5624a54",
   "metadata": {},
   "outputs": [],
   "source": []
  }
 ],
 "metadata": {
  "kernelspec": {
   "display_name": "Python 3 (ipykernel)",
   "language": "python",
   "name": "python3"
  },
  "language_info": {
   "codemirror_mode": {
    "name": "ipython",
    "version": 3
   },
   "file_extension": ".py",
   "mimetype": "text/x-python",
   "name": "python",
   "nbconvert_exporter": "python",
   "pygments_lexer": "ipython3",
   "version": "3.10.8"
  }
 },
 "nbformat": 4,
 "nbformat_minor": 5
}
